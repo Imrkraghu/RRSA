{
 "cells": [
  {
   "cell_type": "code",
   "execution_count": null,
   "id": "87b3d164",
   "metadata": {},
   "outputs": [],
   "source": [
    "import torch\n",
    "from torchvision import models, transforms\n",
    "from PIL import Image\n",
    "import os"
   ]
  },
  {
   "cell_type": "code",
   "execution_count": null,
   "id": "4cf8714d",
   "metadata": {
    "vscode": {
     "languageId": "plaintext"
    }
   },
   "outputs": [],
   "source": [
    "# Load MobileNetV3 model (binary classifier: road / not-road)\n",
    "def load_model(model_path: str = \"models/roadnet_v3.pth\") -> torch.nn.Module:\n",
    "    model = models.mobilenet_v3_large(pretrained=False)\n",
    "    model.classifier[3] = torch.nn.Linear(in_features=1280, out_features=2)\n",
    "    model.load_state_dict(torch.load(model_path, map_location=torch.device(\"cpu\")))\n",
    "    model.eval()\n",
    "    return model"
   ]
  },
  {
   "cell_type": "code",
   "execution_count": null,
   "id": "6dd3fb30",
   "metadata": {
    "vscode": {
     "languageId": "plaintext"
    }
   },
   "outputs": [],
   "source": [
    "# Preprocess image for MobileNetV3\n",
    "def preprocess_image(image_path: str) -> torch.Tensor:\n",
    "    image = Image.open(image_path).convert(\"RGB\")\n",
    "    transform = transforms.Compose([\n",
    "        transforms.Resize((224, 224)),\n",
    "        transforms.ToTensor(),\n",
    "        transforms.Normalize(mean=[0.485, 0.456, 0.406],\n",
    "                             std=[0.229, 0.224, 0.225])\n",
    "    ])\n",
    "    return transform(image).unsqueeze(0)"
   ]
  },
  {
   "cell_type": "code",
   "execution_count": null,
   "id": "367f2fe3",
   "metadata": {
    "vscode": {
     "languageId": "plaintext"
    }
   },
   "outputs": [],
   "source": [
    "# Run inference and return label + confidence\n",
    "def detect_road(image_path: str, model: torch.nn.Module = None) -> dict:\n",
    "    if not os.path.exists(image_path):\n",
    "        return {\"error\": \"Image path does not exist\"}\n",
    "\n",
    "    if model is None:\n",
    "        model = load_model()\n",
    "\n",
    "    input_tensor = preprocess_image(image_path)\n",
    "\n",
    "    with torch.no_grad():\n",
    "        output = model(input_tensor)\n",
    "        prediction = torch.argmax(output, dim=1).item()\n",
    "        confidence = torch.softmax(output, dim=1)[0][prediction].item()\n",
    "\n",
    "    label_map = {0: \"not-road\", 1: \"road\"}\n",
    "    return {\n",
    "        \"label\": label_map[prediction],\n",
    "        \"confidence\": round(confidence, 4),\n",
    "        \"path\": image_path\n",
    "    }"
   ]
  }
 ],
 "metadata": {
  "language_info": {
   "name": "python"
  }
 },
 "nbformat": 4,
 "nbformat_minor": 5
}
